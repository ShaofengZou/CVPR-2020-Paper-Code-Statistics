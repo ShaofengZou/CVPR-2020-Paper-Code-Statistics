{
 "cells": [
  {
   "cell_type": "markdown",
   "metadata": {},
   "source": [
    "## Download the html"
   ]
  },
  {
   "cell_type": "code",
   "execution_count": null,
   "metadata": {},
   "outputs": [],
   "source": [
    "!mkdir 'cache'\n",
    "!wget 'http://openaccess.thecvf.com/CVPR2020.py' -O 'cache/CVPR2020.html'"
   ]
  },
  {
   "cell_type": "markdown",
   "metadata": {},
   "source": [
    "## Download the papers"
   ]
  },
  {
   "cell_type": "code",
   "execution_count": null,
   "metadata": {},
   "outputs": [],
   "source": [
    "from urllib.request import urlretrieve\n",
    "import os\n",
    "os.makedirs('pdf', exist_ok=True)\n",
    " \n",
    "file = open(os.path.join('cache', 'CVPR2020.html'), 'r')\n",
    "html = file.read()\n",
    " \n",
    "while html.find('.pdf') != -1:\n",
    "    # find the first .pdf file\n",
    "    paper = html[:html.find('.pdf')+4]\n",
    "    paper = paper[paper.rfind('\"')+1:]\n",
    "\n",
    "    # download the pdf into the content folder\n",
    "    urlretrieve('http://openaccess.thecvf.com/' + paper, 'pdf/' + paper[paper.rfind('/')+1:])\n",
    "\n",
    "    # update the html so it no longer contains that pdf\n",
    "    html = html[html.find('.pdf')+1:]"
   ]
  },
  {
   "cell_type": "code",
   "execution_count": null,
   "metadata": {},
   "outputs": [],
   "source": []
  }
 ],
 "metadata": {
  "kernelspec": {
   "display_name": "Python 3.6.10 64-bit",
   "language": "python",
   "name": "python361064bitc5c43488f39540218b7a2230d0840907"
  },
  "language_info": {
   "codemirror_mode": {
    "name": "ipython",
    "version": 3
   },
   "file_extension": ".py",
   "mimetype": "text/x-python",
   "name": "python",
   "nbconvert_exporter": "python",
   "pygments_lexer": "ipython3",
   "version": "3.6.10"
  }
 },
 "nbformat": 4,
 "nbformat_minor": 2
}